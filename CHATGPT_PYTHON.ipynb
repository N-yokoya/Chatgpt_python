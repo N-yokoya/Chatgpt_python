{
 "cells": [
  {
   "cell_type": "code",
   "execution_count": null,
   "id": "82cd7d10",
   "metadata": {},
   "outputs": [],
   "source": [
    "# OpenAI APIのキーを設定\n",
    "import os\n",
    "os.environ[\"OPENAI_API_KEY\"] = \"sk-xxxxxxxxxxxxxxxxxxxxxxxxxxxxx\"\n",
    "\n",
    "# OpenAIライブラリをインポート\n",
    "import openai\n",
    "\n",
    "# チャットの履歴を格納するリスト\n",
    "history = []\n",
    "\n",
    "# ユーザーの入力を受け取る\n",
    "user_input = input(\"あなた: \")\n",
    "\n",
    "# チャットの履歴に追加\n",
    "history.append({\"role\": \"user\", \"content\": user_input})\n",
    "\n",
    "# ChatGPTにリクエストを送る\n",
    "response = openai.Completion.create(\n",
    "    engine=\"chatgpt\",\n",
    "    prompt=history,\n",
    "    max_tokens=100,\n",
    "    temperature=0.9,\n",
    "    stop=[\"\\n\"]\n",
    ")\n",
    "\n",
    "# ChatGPTの応答を表示\n",
    "print(\"ChatGPT: \", response[\"choices\"][0][\"text\"])\n",
    "\n",
    "# チャットの履歴に追加\n",
    "history.append({\"role\": \"chatgpt\", \"content\": response[\"choices\"][0][\"text\"]})\n"
   ]
  }
 ],
 "metadata": {
  "kernelspec": {
   "display_name": "Python 3",
   "language": "python",
   "name": "python3"
  },
  "language_info": {
   "codemirror_mode": {
    "name": "ipython",
    "version": 3
   },
   "file_extension": ".py",
   "mimetype": "text/x-python",
   "name": "python",
   "nbconvert_exporter": "python",
   "pygments_lexer": "ipython3",
   "version": "3.8.8"
  }
 },
 "nbformat": 4,
 "nbformat_minor": 5
}
